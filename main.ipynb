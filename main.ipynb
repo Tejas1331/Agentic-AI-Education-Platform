{
 "cells": [
  {
   "cell_type": "code",
   "execution_count": 28,
   "id": "1fb557f4",
   "metadata": {},
   "outputs": [],
   "source": [
    "import numpy\n",
    "import os\n",
    "from dotenv import load_dotenv\n",
    "from openai import OpenAI\n",
    "from agents import Agent, Runner, trace, function_tool,OpenAIChatCompletionsModel\n",
    "import langsmith\n",
    "from dotenv import load_dotenv\n",
    "from openai import AsyncOpenAI"
   ]
  },
  {
   "cell_type": "code",
   "execution_count": 29,
   "id": "fadd07f4",
   "metadata": {},
   "outputs": [
    {
     "name": "stdout",
     "output_type": "stream",
     "text": [
      "d:\\Project Alpha\\Agentic AI based Educator\\Agentic-AI-Education-Platform\\agentic-ai\\Scripts\\python.exe\n"
     ]
    }
   ],
   "source": [
    "import sys\n",
    "print(sys.executable)\n"
   ]
  },
  {
   "cell_type": "code",
   "execution_count": 30,
   "id": "936140a7",
   "metadata": {},
   "outputs": [],
   "source": [
    "load_dotenv()  # Make sure your .env file exists in the project root\n",
    "\n",
    "# Setup LangSmith client\n",
    "os.environ[\"LANGCHAIN_API_KEY\"] = os.getenv(\"LANGCHAIN_API_KEY\")\n",
    "os.environ[\"LANGCHAIN_PROJECT\"] = os.getenv(\"LANGCHAIN_PROJECT\")\n",
    "client_ls = langsmith.Client()"
   ]
  },
  {
   "cell_type": "code",
   "execution_count": 31,
   "id": "a2b9b9b0",
   "metadata": {},
   "outputs": [],
   "source": [
    "load_dotenv(override=True)\n",
    "google_api_key = os.getenv('GOOGLE_API_KEY')"
   ]
  },
  {
   "cell_type": "code",
   "execution_count": 32,
   "id": "ae71e0f6",
   "metadata": {},
   "outputs": [],
   "source": [
    "GEMINI_BASE_URL = \"https://generativelanguage.googleapis.com/v1beta/openai/\"\n",
    "gemini_client = AsyncOpenAI(base_url=GEMINI_BASE_URL, api_key=google_api_key)\n",
    "gemini_model = OpenAIChatCompletionsModel(model=\"gemini-2.0-flash\", openai_client=gemini_client)"
   ]
  },
  {
   "cell_type": "code",
   "execution_count": 33,
   "id": "73d95dd9",
   "metadata": {},
   "outputs": [
    {
     "name": "stdout",
     "output_type": "stream",
     "text": [
      "<generator object Client.list_runs at 0x0000022540899300>\n"
     ]
    }
   ],
   "source": [
    "client = langsmith.Client(\n",
    "    api_key=os.getenv(\"LANGCHAIN_API_KEY\")\n",
    ")\n",
    "\n",
    "# Optional: test connection\n",
    "print(client.list_runs())"
   ]
  },
  {
   "cell_type": "code",
   "execution_count": 34,
   "id": "4d5d702e",
   "metadata": {},
   "outputs": [
    {
     "name": "stdout",
     "output_type": "stream",
     "text": [
      "Alright, let's break down 10 basic principles of economics in a way that's easy to understand! Think of these as guidelines for how people make choices when dealing with limited resources.\n",
      "\n",
      "**1. People Face Trade-offs:**\n",
      "\n",
      "*   **What it means:** Every decision we make involves giving up something else. You can't have it all!\n",
      "*   **Example:** Do you spend your time studying for a test or hanging out with friends? Choosing one means sacrificing the other.\n",
      "\n",
      "**2. The Cost of Something Is What You Give Up to Get It (Opportunity Cost):**\n",
      "\n",
      "*   **What it means:** The *real* cost of something isn't just the money you pay, but also the best alternative you *didn't* choose.\n",
      "*   **Example:** The opportunity cost of going to college isn't just tuition and books, but also the money you could have earned working full-time.\n",
      "\n",
      "**3. Rational People Think at the Margin:**\n",
      "\n",
      "*   **What it means:** Smart people make decisions by considering the *additional* benefit versus the *additional* cost of a little bit more or a little bit less of something.\n",
      "*   **Example:** A company deciding whether to produce one more widget weighs the extra cost of making it against the extra revenue they'll get from selling it.\n",
      "\n",
      "**4. People Respond to Incentives:**\n",
      "\n",
      "*   **What it means:** People change their behavior when the costs or benefits change.\n",
      "*   **Example:** If a store has a sale on your favorite candy, you're more likely to buy it.\n",
      "\n",
      "**5. Trade Can Make Everyone Better Off:**\n",
      "\n",
      "*   **What it means:** By specializing in what we're good at and trading with others, we can all have more goods and services.\n",
      "*   **Example:** Countries trade with each other, allowing each to focus on producing what they can make most efficiently.\n",
      "\n",
      "**6. Markets Are Usually a Good Way to Organize Economic Activity:**\n",
      "\n",
      "*   **What it means:** In a market economy, prices and self-interest guide the allocation of resources, leading to efficiency.\n",
      "*   **Example:** Think of a farmer's market. Farmers decide what to grow, and consumers decide what to buy, all based on prices.\n",
      "\n",
      "**7. Governments Can Sometimes Improve Market Outcomes:**\n",
      "\n",
      "*   **What it means:** Sometimes markets fail to allocate resources efficiently (e.g., pollution). Governments can step in to fix these problems.\n",
      "*   **Example:** The government might regulate pollution to protect the environment.\n",
      "\n",
      "**8. A Country's Standard of Living Depends on Its Ability to Produce Goods and Services:**\n",
      "\n",
      "*   **What it means:** The more a country produces per person, the higher the standard of living.\n",
      "*   **Example:** Countries with high productivity (efficiently producing goods and services) tend to have higher incomes and better living conditions.\n",
      "\n",
      "**9. Prices Rise When the Government Prints Too Much Money (Inflation):**\n",
      "\n",
      "*   **What it means:** When the government prints a lot of money without a corresponding increase in goods and services, the value of money decreases, leading to higher prices.\n",
      "*   **Example:** Imagine if everyone suddenly had twice as much money, but the number of apples stayed the same. The price of apples would likely go up.\n",
      "\n",
      "**10. Society Faces a Short-Run Trade-off Between Inflation and Unemployment:**\n",
      "\n",
      "*   **What it means:** In the short run, policies that lower inflation may lead to higher unemployment, and vice versa. This is a complex issue with no easy answers.\n",
      "*   **Example:** This principle is often debated by economists and policymakers.\n",
      "\n",
      "And that's it! These principles give you a basic understanding of how economists think about the world and how decisions are made in the face of scarcity.\n",
      "\n"
     ]
    }
   ],
   "source": [
    "agent = Agent(\n",
    "    name=\"educator-agent\",\n",
    "    model=gemini_model,\n",
    "    instructions=\"You are an educator. Explain concepts simply.\"\n",
    ")\n",
    "\n",
    "result = await Runner.run(agent, \"Explain 10 basic principles of economics\")\n",
    "print(result.final_output)"
   ]
  },
  {
   "cell_type": "code",
   "execution_count": 1,
   "id": "622e0f7a",
   "metadata": {},
   "outputs": [
    {
     "ename": "ModuleNotFoundError",
     "evalue": "No module named 'wrappers'",
     "output_type": "error",
     "traceback": [
      "\u001b[31m---------------------------------------------------------------------------\u001b[39m",
      "\u001b[31mModuleNotFoundError\u001b[39m                       Traceback (most recent call last)",
      "\u001b[36mCell\u001b[39m\u001b[36m \u001b[39m\u001b[32mIn[1]\u001b[39m\u001b[32m, line 1\u001b[39m\n\u001b[32m----> \u001b[39m\u001b[32m1\u001b[39m \u001b[38;5;28;01mfrom\u001b[39;00m\u001b[38;5;250m \u001b[39m\u001b[34;01mwrappers\u001b[39;00m\u001b[38;5;250m \u001b[39m\u001b[38;5;28;01mimport\u001b[39;00m OpenAIAgentsTracingProcessor\n",
      "\u001b[31mModuleNotFoundError\u001b[39m: No module named 'wrappers'"
     ]
    }
   ],
   "source": [
    "from wrappers import OpenAIAgentsTracingProcessor"
   ]
  },
  {
   "cell_type": "code",
   "execution_count": 1,
   "id": "8b88c0e5",
   "metadata": {},
   "outputs": [
    {
     "ename": "RuntimeError",
     "evalue": "asyncio.run() cannot be called from a running event loop",
     "output_type": "error",
     "traceback": [
      "\u001b[31m---------------------------------------------------------------------------\u001b[39m",
      "\u001b[31mRuntimeError\u001b[39m                              Traceback (most recent call last)",
      "\u001b[36mCell\u001b[39m\u001b[36m \u001b[39m\u001b[32mIn[1]\u001b[39m\u001b[32m, line 49\u001b[39m\n\u001b[32m     48\u001b[39m     loop = asyncio.get_running_loop()\n\u001b[32m---> \u001b[39m\u001b[32m49\u001b[39m     \u001b[43mloop\u001b[49m\u001b[43m.\u001b[49m\u001b[43mrun_until_complete\u001b[49m\u001b[43m(\u001b[49m\u001b[43mmain\u001b[49m\u001b[43m(\u001b[49m\u001b[43m)\u001b[49m\u001b[43m)\u001b[49m\n\u001b[32m     50\u001b[39m \u001b[38;5;28;01mexcept\u001b[39;00m \u001b[38;5;167;01mRuntimeError\u001b[39;00m:\n",
      "\u001b[36mFile \u001b[39m\u001b[32m~\\AppData\\Local\\Programs\\Python\\Python311\\Lib\\asyncio\\base_events.py:629\u001b[39m, in \u001b[36mBaseEventLoop.run_until_complete\u001b[39m\u001b[34m(self, future)\u001b[39m\n\u001b[32m    628\u001b[39m \u001b[38;5;28mself\u001b[39m._check_closed()\n\u001b[32m--> \u001b[39m\u001b[32m629\u001b[39m \u001b[38;5;28;43mself\u001b[39;49m\u001b[43m.\u001b[49m\u001b[43m_check_running\u001b[49m\u001b[43m(\u001b[49m\u001b[43m)\u001b[49m\n\u001b[32m    631\u001b[39m new_task = \u001b[38;5;129;01mnot\u001b[39;00m futures.isfuture(future)\n",
      "\u001b[36mFile \u001b[39m\u001b[32m~\\AppData\\Local\\Programs\\Python\\Python311\\Lib\\asyncio\\base_events.py:588\u001b[39m, in \u001b[36mBaseEventLoop._check_running\u001b[39m\u001b[34m(self)\u001b[39m\n\u001b[32m    587\u001b[39m \u001b[38;5;28;01mif\u001b[39;00m \u001b[38;5;28mself\u001b[39m.is_running():\n\u001b[32m--> \u001b[39m\u001b[32m588\u001b[39m     \u001b[38;5;28;01mraise\u001b[39;00m \u001b[38;5;167;01mRuntimeError\u001b[39;00m(\u001b[33m'\u001b[39m\u001b[33mThis event loop is already running\u001b[39m\u001b[33m'\u001b[39m)\n\u001b[32m    589\u001b[39m \u001b[38;5;28;01mif\u001b[39;00m events._get_running_loop() \u001b[38;5;129;01mis\u001b[39;00m \u001b[38;5;129;01mnot\u001b[39;00m \u001b[38;5;28;01mNone\u001b[39;00m:\n",
      "\u001b[31mRuntimeError\u001b[39m: This event loop is already running",
      "\nDuring handling of the above exception, another exception occurred:\n",
      "\u001b[31mRuntimeError\u001b[39m                              Traceback (most recent call last)",
      "\u001b[36mCell\u001b[39m\u001b[36m \u001b[39m\u001b[32mIn[1]\u001b[39m\u001b[32m, line 51\u001b[39m\n\u001b[32m     49\u001b[39m     loop.run_until_complete(main())\n\u001b[32m     50\u001b[39m \u001b[38;5;28;01mexcept\u001b[39;00m \u001b[38;5;167;01mRuntimeError\u001b[39;00m:\n\u001b[32m---> \u001b[39m\u001b[32m51\u001b[39m     \u001b[43masyncio\u001b[49m\u001b[43m.\u001b[49m\u001b[43mrun\u001b[49m\u001b[43m(\u001b[49m\u001b[43mmain\u001b[49m\u001b[43m(\u001b[49m\u001b[43m)\u001b[49m\u001b[43m)\u001b[49m\n",
      "\u001b[36mFile \u001b[39m\u001b[32m~\\AppData\\Local\\Programs\\Python\\Python311\\Lib\\asyncio\\runners.py:186\u001b[39m, in \u001b[36mrun\u001b[39m\u001b[34m(main, debug)\u001b[39m\n\u001b[32m    161\u001b[39m \u001b[38;5;250m\u001b[39m\u001b[33;03m\"\"\"Execute the coroutine and return the result.\u001b[39;00m\n\u001b[32m    162\u001b[39m \n\u001b[32m    163\u001b[39m \u001b[33;03mThis function runs the passed coroutine, taking care of\u001b[39;00m\n\u001b[32m   (...)\u001b[39m\u001b[32m    182\u001b[39m \u001b[33;03m    asyncio.run(main())\u001b[39;00m\n\u001b[32m    183\u001b[39m \u001b[33;03m\"\"\"\u001b[39;00m\n\u001b[32m    184\u001b[39m \u001b[38;5;28;01mif\u001b[39;00m events._get_running_loop() \u001b[38;5;129;01mis\u001b[39;00m \u001b[38;5;129;01mnot\u001b[39;00m \u001b[38;5;28;01mNone\u001b[39;00m:\n\u001b[32m    185\u001b[39m     \u001b[38;5;66;03m# fail fast with short traceback\u001b[39;00m\n\u001b[32m--> \u001b[39m\u001b[32m186\u001b[39m     \u001b[38;5;28;01mraise\u001b[39;00m \u001b[38;5;167;01mRuntimeError\u001b[39;00m(\n\u001b[32m    187\u001b[39m         \u001b[33m\"\u001b[39m\u001b[33masyncio.run() cannot be called from a running event loop\u001b[39m\u001b[33m\"\u001b[39m)\n\u001b[32m    189\u001b[39m \u001b[38;5;28;01mwith\u001b[39;00m Runner(debug=debug) \u001b[38;5;28;01mas\u001b[39;00m runner:\n\u001b[32m    190\u001b[39m     \u001b[38;5;28;01mreturn\u001b[39;00m runner.run(main)\n",
      "\u001b[31mRuntimeError\u001b[39m: asyncio.run() cannot be called from a running event loop"
     ]
    }
   ],
   "source": [
    "import os\n",
    "from dotenv import load_dotenv\n",
    "from openai import AsyncOpenAI\n",
    "from agents import Agent, Runner, OpenAIChatCompletionsModel\n",
    "from langsmith import Client, traceable\n",
    "import asyncio\n",
    "\n",
    "# Load environment variables\n",
    "load_dotenv()\n",
    "\n",
    "# Set up LangSmith client\n",
    "os.environ[\"LANGCHAIN_API_KEY\"] = os.getenv(\"LANGCHAIN_API_KEY\")\n",
    "os.environ[\"LANGCHAIN_PROJECT\"] = os.getenv(\"LANGCHAIN_PROJECT\")\n",
    "client_ls = Client()\n",
    "\n",
    "# Set up the OpenAI client for the Gemini model\n",
    "google_api_key = os.getenv('GOOGLE_API_KEY')\n",
    "GEMINI_BASE_URL = \"https://generativelanguage.googleapis.com/v1beta/openai/\"\n",
    "gemini_client = AsyncOpenAI(base_url=GEMINI_BASE_URL, api_key=google_api_key)\n",
    "gemini_model = OpenAIChatCompletionsModel(model=\"gemini-2.0-flash\", openai_client=gemini_client)\n",
    "\n",
    "# Define the agent\n",
    "agent = Agent(\n",
    "    name=\"educator-agent\",\n",
    "    model=gemini_model,\n",
    "    instructions=\"You are an educator. Explain concepts simply.\"\n",
    ")\n",
    "\n",
    "# Use @traceable from langsmith to trace the agent's run\n",
    "@traceable(name=\"educator-agent-run\")\n",
    "async def run_traced_agent(agent_instance, user_query):\n",
    "    \"\"\"A traced function to run the agent.\"\"\"\n",
    "    return await Runner.run(agent_instance, user_query)\n",
    "\n",
    "# Main function to run the agent\n",
    "async def main():\n",
    "    print(\"Running the agent with LangSmith tracing...\")\n",
    "    try:\n",
    "        result = await run_traced_agent(agent, \"Explain 10 basic principles of economics\")\n",
    "        print(\"\\nAgent's final output:\\n\")\n",
    "        print(result.final_output)\n",
    "    except Exception as e:\n",
    "        print(f\"An error occurred: {e}\")\n",
    "\n",
    "# This is the new, platform-independent way to run the coroutine\n",
    "if __name__ == \"__main__\":\n",
    "    try:\n",
    "        loop = asyncio.get_running_loop()\n",
    "        loop.run_until_complete(main())\n",
    "    except RuntimeError:\n",
    "        asyncio.run(main())"
   ]
  },
  {
   "cell_type": "code",
   "execution_count": 2,
   "id": "c698ba51",
   "metadata": {},
   "outputs": [],
   "source": [
    "import nest_asyncio\n",
    "nest_asyncio.apply()"
   ]
  },
  {
   "cell_type": "code",
   "execution_count": 3,
   "id": "7ecc058b",
   "metadata": {},
   "outputs": [
    {
     "name": "stdout",
     "output_type": "stream",
     "text": [
      "Running the agent with LangSmith tracing...\n"
     ]
    },
    {
     "name": "stderr",
     "output_type": "stream",
     "text": [
      "OPENAI_API_KEY is not set, skipping trace export\n"
     ]
    },
    {
     "name": "stdout",
     "output_type": "stream",
     "text": [
      "\n",
      "Agent's final output:\n",
      "\n",
      "Alright, let's break down 10 basic principles of economics in a way that's easy to understand. Think of these as guidelines for how people and societies make choices about money, resources, and stuff they want.\n",
      "\n",
      "**1. People Face Trade-offs:**\n",
      "\n",
      "*   **What it means:** We can't have everything we want. Choosing one thing means giving up something else.\n",
      "*   **Example:** Deciding whether to spend your Saturday studying or going to a movie. Choosing the movie means giving up study time (and potentially a better grade).\n",
      "\n",
      "**2. The Cost of Something Is What You Give Up to Get It (Opportunity Cost):**\n",
      "\n",
      "*   **What it means:** The \"real\" cost of something isn't just the money you pay, but also the best alternative you give up.\n",
      "*   **Example:** The opportunity cost of going to college isn't just tuition and books. It's also the income you could have earned if you were working instead.\n",
      "\n",
      "**3. Rational People Think at the Margin:**\n",
      "\n",
      "*   **What it means:** Smart people make decisions by comparing the additional (marginal) benefit of doing a little bit more of something with the additional (marginal) cost.\n",
      "*   **Example:** A restaurant deciding whether to hire one more server. They'll weigh the extra revenue the server brings in against the cost of their salary.\n",
      "\n",
      "**4. People Respond to Incentives:**\n",
      "\n",
      "*   **What it means:** People change their behavior when faced with rewards or punishments.\n",
      "*   **Example:** If gas prices go up, people might drive less or buy more fuel-efficient cars. A sale makes you buy more of a specific product.\n",
      "\n",
      "**5. Trade Can Make Everyone Better Off:**\n",
      "\n",
      "*   **What it means:** When people or countries trade, they can specialize in what they do best and get a wider variety of goods and services at a lower cost.\n",
      "*   **Example:** You might be good at cooking, and your friend might be good at cleaning. If you trade, you can both focus on what you're best at and have a delicious meal in a clean house!\n",
      "\n",
      "**6. Markets Are Usually a Good Way to Organize Economic Activity:**\n",
      "\n",
      "*   **What it means:** In a market economy, decisions about what to produce and who gets it are made by millions of individuals and firms interacting, guided by prices.\n",
      "*   **Example:** Think of a farmer's market. Farmers decide what to grow based on what people want to buy, and consumers choose what to buy based on their preferences and prices.\n",
      "\n",
      "**7. Governments Can Sometimes Improve Market Outcomes:**\n",
      "\n",
      "*   **What it means:** Sometimes markets don't work perfectly on their own. Governments can step in to protect property rights, correct market failures (like pollution), or promote fairness.\n",
      "*   **Example:** A government might regulate a factory to reduce pollution or provide public goods like roads and national defense.\n",
      "\n",
      "**8. A Country's Standard of Living Depends on Its Ability to Produce Goods and Services:**\n",
      "\n",
      "*   **What it means:** The more a country produces per person (productivity), the higher its standard of living will be.\n",
      "*   **Example:** Countries with highly educated workforces and advanced technology tend to have higher standards of living than countries with less productive economies.\n",
      "\n",
      "**9. Prices Rise When the Government Prints Too Much Money (Inflation):**\n",
      "\n",
      "*   **What it means:** When the government creates a lot more money, the value of each dollar goes down, and prices go up.\n",
      "*   **Example:** Imagine if everyone suddenly had ten times more money. Sellers would realize people are willing to pay more, and they'd raise prices.\n",
      "\n",
      "**10. Society Faces a Short-Run Trade-off Between Inflation and Unemployment:**\n",
      "\n",
      "*   **What it means:** In the short run, policies that reduce inflation may lead to higher unemployment, and policies that reduce unemployment may lead to higher inflation. This is a complex relationship that economists debate.\n",
      "*   **Example:** If the government tries to slow down the economy to fight inflation, businesses might lay off workers, leading to higher unemployment.\n",
      "\n",
      "So, there you have it! Ten basic principles of economics to help you understand how the world of money and resources works. Remember, these are just starting points, and economics can get much more complicated, but this is a solid foundation.\n",
      "\n"
     ]
    },
    {
     "name": "stderr",
     "output_type": "stream",
     "text": [
      "OPENAI_API_KEY is not set, skipping trace export\n"
     ]
    }
   ],
   "source": [
    "import os\n",
    "from dotenv import load_dotenv\n",
    "from openai import AsyncOpenAI\n",
    "from agents import Agent, Runner, OpenAIChatCompletionsModel\n",
    "from langsmith import Client, traceable\n",
    "import asyncio\n",
    "import nest_asyncio\n",
    "\n",
    "# Apply the patch for nested event loops\n",
    "nest_asyncio.apply()\n",
    "\n",
    "# Load environment variables\n",
    "load_dotenv()\n",
    "\n",
    "# Set up LangSmith client\n",
    "os.environ[\"LANGCHAIN_API_KEY\"] = os.getenv(\"LANGCHAIN_API_KEY\")\n",
    "os.environ[\"LANGCHAIN_PROJECT\"] = os.getenv(\"LANGCHAIN_PROJECT\")\n",
    "client_ls = Client()\n",
    "\n",
    "# Set up the OpenAI client for the Gemini model\n",
    "google_api_key = os.getenv('GOOGLE_API_KEY')\n",
    "GEMINI_BASE_URL = \"https://generativelanguage.googleapis.com/v1beta/openai/\"\n",
    "gemini_client = AsyncOpenAI(base_url=GEMINI_BASE_URL, api_key=google_api_key)\n",
    "gemini_model = OpenAIChatCompletionsModel(model=\"gemini-2.0-flash\", openai_client=gemini_client)\n",
    "\n",
    "# Define the agent\n",
    "agent = Agent(\n",
    "    name=\"educator-agent\",\n",
    "    model=gemini_model,\n",
    "    instructions=\"You are an educator. Explain concepts simply.\"\n",
    ")\n",
    "\n",
    "# Use @traceable from langsmith to trace the agent's run\n",
    "@traceable(name=\"educator-agent-run\")\n",
    "async def run_traced_agent(agent_instance, user_query):\n",
    "    \"\"\"A traced function to run the agent.\"\"\"\n",
    "    return await Runner.run(agent_instance, user_query)\n",
    "\n",
    "# Main function to run the agent\n",
    "async def main():\n",
    "    print(\"Running the agent with LangSmith tracing...\")\n",
    "    try:\n",
    "        result = await run_traced_agent(agent, \"Explain 10 basic principles of economics\")\n",
    "        print(\"\\nAgent's final output:\\n\")\n",
    "        print(result.final_output)\n",
    "    except Exception as e:\n",
    "        print(f\"An error occurred: {e}\")\n",
    "\n",
    "# Run the main function using the standard method\n",
    "if __name__ == \"__main__\":\n",
    "    asyncio.run(main())"
   ]
  },
  {
   "cell_type": "code",
   "execution_count": null,
   "id": "45f298d7",
   "metadata": {},
   "outputs": [],
   "source": []
  }
 ],
 "metadata": {
  "kernelspec": {
   "display_name": "agentic-ai",
   "language": "python",
   "name": "python3"
  },
  "language_info": {
   "codemirror_mode": {
    "name": "ipython",
    "version": 3
   },
   "file_extension": ".py",
   "mimetype": "text/x-python",
   "name": "python",
   "nbconvert_exporter": "python",
   "pygments_lexer": "ipython3",
   "version": "3.11.2"
  }
 },
 "nbformat": 4,
 "nbformat_minor": 5
}
